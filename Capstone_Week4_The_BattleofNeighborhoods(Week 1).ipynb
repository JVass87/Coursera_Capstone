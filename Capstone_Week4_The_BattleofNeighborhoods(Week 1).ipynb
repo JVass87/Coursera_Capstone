{
 "cells": [
  {
   "cell_type": "markdown",
   "metadata": {},
   "source": [
    "# CAPSTONE Project"
   ]
  },
  {
   "cell_type": "markdown",
   "metadata": {},
   "source": [
    "## Study on Madrid tapas restaurants"
   ]
  },
  {
   "cell_type": "markdown",
   "metadata": {},
   "source": [
    "<b>-----------------------------------------------------------------------------------------------------------------------------<b>"
   ]
  },
  {
   "cell_type": "markdown",
   "metadata": {},
   "source": [
    "### Introduction"
   ]
  },
  {
   "attachments": {},
   "cell_type": "markdown",
   "metadata": {},
   "source": [
    "Madrid is the capital and most populous city of Spain. The city has almost 3.3 million inhabitants and a metropolitan area population of approximately 6.5 million. It is the second-largest city in the European Union (EU), surpassed only by Berlin, and its monocentric metropolitan area is the second-largest in the EU, smaller only than Paris. It is also very famous for its gastronomy and \"tapas\" culture. A tapa is an appetizer or snack in Spanish cuisine and translates to a small portion of any kind of Spanish food. Tapas may be cold (such as mixed olives and cheese) or hot (such as chopitos, which are battered, fried baby squid). In some bars and restaurants in Spain and across the globe tapas have evolved into a more sophisticated cuisine and can be combined to make even a full meal. The importance of this tradition is even more striking when we are are looking at the growing international tourism visiting the Community of Madrid from 2001 to 2018:\n",
    "\n",
    "<img> <src=\"https://www.statista.com/statistics/449249/yearly-number-of-international-tourists-visiting-madrid-2001-2014/\" width =\"500\" height=500 >\n"
   ]
  },
  {
   "cell_type": "markdown",
   "metadata": {},
   "source": [
    "\n",
    "This project intends to help either those tourists who want to try the best tapas bars in the Spanish capital or the tour guides that are keen to amuse their group with the Spanish gastronomy. Moreover knowing the weak spots in the center areas can also be a good opportunity to open a new bar and fill the market niche."
   ]
  },
  {
   "cell_type": "markdown",
   "metadata": {},
   "source": [
    "## Data"
   ]
  },
  {
   "cell_type": "markdown",
   "metadata": {},
   "source": [
    "In order to carry out a thorough analysis we need data on neighborhoods with latitude, longitude information and all the restaurants nearby with the corresponding ratings and tips.\n",
    "\n",
    "The neighborhoods, latitudes and longitudes data of Madrid will be obtained from the following json data source: https://raw.githubusercontent.com/codeforamerica/click_that_hood/master/public/data/madrid.geojson\n",
    "\n",
    "\n",
    "Regarding locations, client ratings, tips of the tapas restaurants we will utilize the FourSquare API via the Request library in Python."
   ]
  },
  {
   "cell_type": "markdown",
   "metadata": {},
   "source": [
    "## Methodology"
   ]
  },
  {
   "cell_type": "markdown",
   "metadata": {},
   "source": [
    "• Data collected from https://raw.githubusercontent.com/codeforamerica/click_that_hood/master/public/data/madrid.geojson will be processed into a dataframe.\n",
    "\n",
    "• FourSquare will be used to locate all venues. Data then gets filtered by tapas restaurants only. Ratings, tips and likes by users will be counted and added to the dataframe. Also exploratory statistics will be done to get better feel of the data.\n",
    "\n",
    "• Data will be also sorted based on rankings to help the recommendation and get rid of the restaurants which dont have any ranking information.\n",
    "\n",
    "• Finally the best rated neighbourhoods will be visualized to see the most attracting areas or potential market niches."
   ]
  },
  {
   "cell_type": "markdown",
   "metadata": {},
   "source": [
    "## Problem Statement/Questions to be asked"
   ]
  },
  {
   "cell_type": "markdown",
   "metadata": {},
   "source": [
    "\n",
    "<li>What are the best neighborhoods in Madrid to eat tapas?</li>\n",
    "<li>Which Neighborhoods have in general more tapas restaurants?</li>\n",
    "<li>In which Neighborhood should I open a tapas restaurant to have better chance of success?</li>\n",
    " \n"
   ]
  },
  {
   "cell_type": "code",
   "execution_count": null,
   "metadata": {},
   "outputs": [],
   "source": []
  }
 ],
 "metadata": {
  "kernelspec": {
   "display_name": "Python 3",
   "language": "python",
   "name": "python3"
  },
  "language_info": {
   "codemirror_mode": {
    "name": "ipython",
    "version": 3
   },
   "file_extension": ".py",
   "mimetype": "text/x-python",
   "name": "python",
   "nbconvert_exporter": "python",
   "pygments_lexer": "ipython3",
   "version": "3.7.3"
  }
 },
 "nbformat": 4,
 "nbformat_minor": 2
}
